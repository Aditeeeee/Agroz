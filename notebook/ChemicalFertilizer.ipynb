{
 "cells": [
  {
   "cell_type": "code",
   "execution_count": 1,
   "id": "ab7e6854",
   "metadata": {},
   "outputs": [
    {
     "name": "stdout",
     "output_type": "stream",
     "text": [
      "Model Comparisons:\n",
      "Random Forest Accuracy: 0.521594684385382\n",
      "Decision Tree Accuracy: 0.717607973421927\n",
      "KNN Accuracy: 0.49612403100775193\n",
      "SVM Accuracy: 0.4152823920265781\n",
      "Gradient Boosting Accuracy: 0.4640088593576966\n",
      "Naive Bayes Accuracy: 0.39756367663344405\n",
      "XGBoost Accuracy: 0.7242524916943521\n",
      "\n",
      "The best model is XGBoost with an accuracy of 0.7242524916943521.\n"
     ]
    }
   ],
   "source": [
    "import pandas as pd\n",
    "from sklearn.model_selection import train_test_split\n",
    "from sklearn.preprocessing import LabelEncoder\n",
    "from sklearn.pipeline import Pipeline\n",
    "from sklearn.compose import ColumnTransformer\n",
    "from sklearn.impute import SimpleImputer\n",
    "from sklearn.preprocessing import OneHotEncoder, StandardScaler\n",
    "from sklearn.ensemble import RandomForestClassifier, GradientBoostingClassifier\n",
    "from sklearn.tree import DecisionTreeClassifier\n",
    "from sklearn.neighbors import KNeighborsClassifier\n",
    "from sklearn.svm import SVC\n",
    "from sklearn.naive_bayes import GaussianNB\n",
    "from xgboost import XGBClassifier\n",
    "\n",
    "# Load the dataset\n",
    "df = pd.read_csv('Chemical_Fertilizer_Dataset.csv')\n",
    "\n",
    "# Separate features and target variable\n",
    "X = df[['N', 'P', 'K', 'Crop']]\n",
    "y = df['Fertilizer']\n",
    "\n",
    "# Define preprocessing steps\n",
    "categorical_features = ['Crop']\n",
    "categorical_transformer = Pipeline(steps=[\n",
    "    ('imputer', SimpleImputer(strategy='most_frequent')),\n",
    "    ('onehot', OneHotEncoder(handle_unknown='ignore'))\n",
    "])\n",
    "\n",
    "numeric_features = ['N', 'P', 'K']\n",
    "numeric_transformer = Pipeline(steps=[\n",
    "    ('imputer', SimpleImputer(strategy='mean')),\n",
    "    ('scaler', StandardScaler())\n",
    "])\n",
    "\n",
    "# Define preprocessing steps with sparse_threshold=0\n",
    "preprocessor = ColumnTransformer(\n",
    "    transformers=[\n",
    "        ('cat', categorical_transformer, categorical_features),\n",
    "        ('num', numeric_transformer, numeric_features)\n",
    "    ],\n",
    "    sparse_threshold=0  # Force output dense arrays\n",
    ")\n",
    "\n",
    "# Split Data into Train and Test Sets\n",
    "X_train, X_test, y_train, y_test = train_test_split(X, y, test_size=0.2, random_state=42)\n",
    "\n",
    "# Define classifiers\n",
    "classifiers = {\n",
    "    'Random Forest': RandomForestClassifier(n_estimators=100, random_state=42),\n",
    "    'Decision Tree': DecisionTreeClassifier(random_state=42),\n",
    "    'KNN': KNeighborsClassifier(),\n",
    "    'SVM': SVC(),\n",
    "    'Gradient Boosting': GradientBoostingClassifier(),\n",
    "    'Naive Bayes': GaussianNB(),\n",
    "    'XGBoost': XGBClassifier()\n",
    "}\n",
    "\n",
    "# Create pipeline with preprocessing and classifier\n",
    "pipelines = {}\n",
    "for name, clf in classifiers.items():\n",
    "    pipeline = Pipeline(steps=[\n",
    "        ('preprocessor', preprocessor),\n",
    "        ('classifier', clf)\n",
    "    ])\n",
    "    pipelines[name] = pipeline\n",
    "\n",
    "# Encode the categorical target variable y_train\n",
    "label_encoder = LabelEncoder()\n",
    "y_train_encoded = label_encoder.fit_transform(y_train)\n",
    "\n",
    "# Train classifiers and evaluate accuracies\n",
    "accuracies = {}\n",
    "for name, pipeline in pipelines.items():\n",
    "    pipeline.fit(X_train, y_train_encoded)  # Use encoded labels\n",
    "    accuracy = pipeline.score(X_test, label_encoder.transform(y_test))  # Transform test labels too\n",
    "    accuracies[name] = accuracy\n",
    "\n",
    "# Compare accuracies\n",
    "print(\"Model Comparisons:\")\n",
    "for name, accuracy in accuracies.items():\n",
    "    print(f'{name} Accuracy: {accuracy}')\n",
    "    \n",
    "# Select the Best Model\n",
    "best_model_name = max(accuracies, key=accuracies.get)\n",
    "best_model_accuracy = accuracies[best_model_name]\n",
    "print(f'\\nThe best model is {best_model_name} with an accuracy of {best_model_accuracy}.')"
   ]
  },
  {
   "cell_type": "code",
   "execution_count": 6,
   "id": "265a30db",
   "metadata": {},
   "outputs": [
    {
     "name": "stdout",
     "output_type": "stream",
     "text": [
      "['10:10:10 NPK' '10:26:26 NPK' '12:32:16 NPK' '13:32:26 NPK'\n",
      " '18:46:00 NPK' '19:19:19 NPK' '20:20:20 NPK' '50:26:26 NPK'\n",
      " 'Ammonium Sulphate' 'Chilated Micronutrient' 'DAP' 'Ferrous Sulphate'\n",
      " 'Hydrated Lime' 'MOP' 'Magnesium Sulphate' 'SSP' 'Sulphur' 'Urea'\n",
      " 'White Potash']\n"
     ]
    }
   ],
   "source": [
    "print(label_encoder.classes_)\n"
   ]
  },
  {
   "cell_type": "code",
   "execution_count": 4,
   "id": "f5edda48",
   "metadata": {},
   "outputs": [
    {
     "name": "stdout",
     "output_type": "stream",
     "text": [
      "Accuracy: 0.7242524916943521\n",
      "The predicted fertilizer for the input values is: Urea\n"
     ]
    }
   ],
   "source": [
    "# Create pipeline with preprocessing and XGBoost classifier\n",
    "pipeline = Pipeline(steps=[\n",
    "    ('preprocessor', preprocessor),\n",
    "    ('classifier', classifiers['XGBoost'])\n",
    "])\n",
    "\n",
    "# Train XGBoost classifier\n",
    "pipeline.fit(X_train, y_train_encoded)\n",
    "\n",
    "# Evaluate the trained model on the test data\n",
    "accuracy = pipeline.score(X_test, label_encoder.transform(y_test))\n",
    "print(f'Accuracy: {accuracy}')\n",
    "\n",
    "# Define input values as a dictionary\n",
    "input_values = {\n",
    "    'N': 70,  # Example value for Nitrogen\n",
    "    'P': 60,  # Example value for Phosphorus\n",
    "    'K': 60,  # Example value for Potassium\n",
    "    'Crop': 'Sugarcane'  # Example crop\n",
    "}\n",
    "\n",
    "# Convert input values to DataFrame with a single row\n",
    "input_df = pd.DataFrame(input_values, index=[0])\n",
    "\n",
    "# Predict fertilizer using the trained model\n",
    "predicted_fertilizer_encoded = pipeline.predict(input_df)\n",
    "predicted_fertilizer = label_encoder.inverse_transform(predicted_fertilizer_encoded)\n",
    "\n",
    "print(f\"The predicted fertilizer for the input values is: {predicted_fertilizer[0]}\")"
   ]
  },
  {
   "cell_type": "code",
   "execution_count": 7,
   "id": "1418504f",
   "metadata": {},
   "outputs": [],
   "source": [
    "import pickle\n",
    "\n",
    "# Encode the categorical target variable y_train\n",
    "label_encoder = LabelEncoder()\n",
    "y_train_encoded = label_encoder.fit_transform(y_train)\n",
    "\n",
    "# Save the trained LabelEncoder object to a file\n",
    "with open('label_encoder.pkl', 'wb') as file:\n",
    "    pickle.dump(label_encoder, file)\n",
    "    \n",
    "# Save the trained XGBoost model to a file\n",
    "with open('xgboost_model.pkl', 'wb') as file:\n",
    "    pickle.dump(pipeline, file)\n"
   ]
  },
  {
   "cell_type": "code",
   "execution_count": null,
   "id": "a8834560",
   "metadata": {},
   "outputs": [],
   "source": []
  }
 ],
 "metadata": {
  "kernelspec": {
   "display_name": "Python 3 (ipykernel)",
   "language": "python",
   "name": "python3"
  },
  "language_info": {
   "codemirror_mode": {
    "name": "ipython",
    "version": 3
   },
   "file_extension": ".py",
   "mimetype": "text/x-python",
   "name": "python",
   "nbconvert_exporter": "python",
   "pygments_lexer": "ipython3",
   "version": "3.9.13"
  }
 },
 "nbformat": 4,
 "nbformat_minor": 5
}
